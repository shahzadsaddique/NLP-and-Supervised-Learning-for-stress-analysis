{
 "cells": [
  {
   "cell_type": "markdown",
   "metadata": {},
   "source": [
    "# BentoML\n",
    "\n",
    "Deploy word2vec+tfidf model as REST API to google cloud "
   ]
  },
  {
   "cell_type": "code",
   "execution_count": 1,
   "metadata": {},
   "outputs": [],
   "source": [
    "import pandas as pd\n",
    "import numpy as np\n",
    "from sklearn.pipeline import Pipeline\n",
    "from sklearn.linear_model import LogisticRegression\n",
    "from sklearn.ensemble import RandomForestClassifier\n",
    "from sklearn.metrics import classification_report, accuracy_score, confusion_matrix\n",
    "from gensim.models import Word2Vec"
   ]
  },
  {
   "cell_type": "code",
   "execution_count": 2,
   "metadata": {},
   "outputs": [
    {
     "name": "stderr",
     "output_type": "stream",
     "text": [
      "[nltk_data] Downloading package stopwords to\n",
      "[nltk_data]     /Users/gillianchiang/nltk_data...\n",
      "[nltk_data]   Package stopwords is already up-to-date!\n",
      "[nltk_data] Downloading package wordnet to\n",
      "[nltk_data]     /Users/gillianchiang/nltk_data...\n",
      "[nltk_data]   Package wordnet is already up-to-date!\n"
     ]
    }
   ],
   "source": [
    "import sys\n",
    "sys.path.append('../')\n",
    "from data_preprocess import Posts\n",
    "from word_embedding_vectorizer import WordEmbeddingVectorizer"
   ]
  },
  {
   "cell_type": "markdown",
   "metadata": {},
   "source": [
    "## Prepare Dataset"
   ]
  },
  {
   "cell_type": "code",
   "execution_count": 3,
   "metadata": {},
   "outputs": [],
   "source": [
    "# path = '/content/Insight_Stress_Analysis/data/' \n",
    "path = '../../data/'\n",
    "train = pd.read_csv(path + 'dreaddit-train.csv', encoding = \"ISO-8859-1\")\n",
    "test = pd.read_csv(path + 'dreaddit-test.csv', encoding = \"ISO-8859-1\")"
   ]
  },
  {
   "cell_type": "code",
   "execution_count": 4,
   "metadata": {},
   "outputs": [],
   "source": [
    "train_text = Posts(train.text)\n",
    "test_text = Posts(test.text)"
   ]
  },
  {
   "cell_type": "markdown",
   "metadata": {},
   "source": [
    "## Create Model for Production"
   ]
  },
  {
   "cell_type": "code",
   "execution_count": 5,
   "metadata": {},
   "outputs": [
    {
     "name": "stderr",
     "output_type": "stream",
     "text": [
      "/Users/gillianchiang/opt/anaconda3/lib/python3.7/site-packages/tqdm/std.py:648: FutureWarning: The Panel class is removed from pandas. Accessing it from the top-level namespace will also be removed in the next version\n",
      "  from pandas import Panel\n",
      "100%|██████████| 2838/2838 [00:00<00:00, 32826.92it/s]\n",
      "100%|██████████| 2838/2838 [00:32<00:00, 88.26it/s] \n",
      "100%|██████████| 2838/2838 [00:01<00:00, 1511.64it/s]\n",
      "100%|██████████| 715/715 [00:00<00:00, 36565.60it/s]\n",
      "100%|██████████| 715/715 [00:07<00:00, 94.46it/s] \n",
      "100%|██████████| 715/715 [00:00<00:00, 5712.00it/s]\n"
     ]
    }
   ],
   "source": [
    "train_text = train_text.preprocess()\n",
    "test_text = test_text.preprocess()"
   ]
  },
  {
   "cell_type": "code",
   "execution_count": 6,
   "metadata": {},
   "outputs": [],
   "source": [
    "word2vec = Word2Vec(train_text, size=300, window=10, min_count=2, workers=10, iter=100)\n",
    "word_vectorizer = WordEmbeddingVectorizer(word2vec)"
   ]
  },
  {
   "cell_type": "code",
   "execution_count": 7,
   "metadata": {},
   "outputs": [],
   "source": [
    "X_train = word_vectorizer.fit(train_text).transform(train_text)\n",
    "X_test = word_vectorizer.fit(test_text).transform(test_text)"
   ]
  },
  {
   "cell_type": "code",
   "execution_count": 8,
   "metadata": {},
   "outputs": [],
   "source": [
    "y_train = train.label\n",
    "y_test = test.label"
   ]
  },
  {
   "cell_type": "code",
   "execution_count": 9,
   "metadata": {},
   "outputs": [
    {
     "name": "stdout",
     "output_type": "stream",
     "text": [
      "              precision    recall  f1-score   support\n",
      "\n",
      "           0       0.76      0.55      0.64       346\n",
      "           1       0.67      0.84      0.74       369\n",
      "\n",
      "    accuracy                           0.70       715\n",
      "   macro avg       0.72      0.70      0.69       715\n",
      "weighted avg       0.71      0.70      0.70       715\n",
      "\n"
     ]
    }
   ],
   "source": [
    "# random forest\n",
    "word_embedding_rf = RandomForestClassifier(n_estimators=100, random_state=0).fit(X_train, y_train) \n",
    "y_pred = word_embedding_rf.predict(X_test)\n",
    "print(classification_report(y_test, y_pred))"
   ]
  },
  {
   "cell_type": "code",
   "execution_count": 10,
   "metadata": {},
   "outputs": [
    {
     "name": "stdout",
     "output_type": "stream",
     "text": [
      "0.7020979020979021\n"
     ]
    }
   ],
   "source": [
    "print(accuracy_score(y_test, y_pred))"
   ]
  },
  {
   "cell_type": "code",
   "execution_count": 11,
   "metadata": {},
   "outputs": [
    {
     "name": "stdout",
     "output_type": "stream",
     "text": [
      "[[192 154]\n",
      " [ 59 310]]\n"
     ]
    }
   ],
   "source": [
    "print(confusion_matrix(y_test, y_pred))"
   ]
  },
  {
   "cell_type": "markdown",
   "metadata": {},
   "source": [
    "## BentoService for model serving"
   ]
  },
  {
   "cell_type": "code",
   "execution_count": 12,
   "metadata": {},
   "outputs": [
    {
     "name": "stdout",
     "output_type": "stream",
     "text": [
      "Overwriting ../word_embedding_model.py\n"
     ]
    }
   ],
   "source": [
    "%%writefile \"../word_embedding_model.py\"\n",
    "import pandas as pd\n",
    "import bentoml\n",
    "from bentoml.artifact import PickleArtifact\n",
    "from bentoml.handlers import DataframeHandler\n",
    "from data_preprocess import Posts\n",
    "from word_embedding_vectorizer import WordEmbeddingVectorizer\n",
    "from gensim.models import Word2Vec\n",
    "\n",
    "@bentoml.artifacts([PickleArtifact('word_vectorizer'),\n",
    "                    PickleArtifact('word_embedding_rf')]) \n",
    "\n",
    "@bentoml.env(pip_dependencies=[\"pandas\", \"numpy\", \"gensim\", \"scikit-learn\", \"nltk\"])\n",
    "\n",
    "class WordEmbeddingModel(bentoml.BentoService):\n",
    "        \n",
    "    @bentoml.api(DataframeHandler, typ='series')\n",
    "    def preprocess(self, series):\n",
    "        preprocess_series = Posts(series).preprocess()\n",
    "        input_matrix = self.artifacts.word_vectorizer.fit(preprocess_series).transform(preprocess_series)\n",
    "        return input_matrix\n",
    "    \n",
    "    @bentoml.api(DataframeHandler, typ='series')\n",
    "    def predict(self, series):\n",
    "        input_matrix = self.preprocess(series)\n",
    "        pred_labels = self.artifacts.word_embedding_rf.predict(input_matrix)\n",
    "        pred_proba = self.artifacts.word_embedding_rf.predict_proba(input_matrix)\n",
    "        confidence_score = [prob[1] for prob in pred_proba]\n",
    "        output = pd.DataFrame({'text': series, 'confidence_score': confidence_score, 'labels': pred_labels})\n",
    "        output['labels'] = output['labels'].map({1: 'stress', 0: 'non-stress'})\n",
    "        \n",
    "        return output"
   ]
  },
  {
   "cell_type": "code",
   "execution_count": 13,
   "metadata": {},
   "outputs": [
    {
     "name": "stdout",
     "output_type": "stream",
     "text": [
      "[2020-02-06 15:09:55,468] INFO - BentoService bundle 'WordEmbeddingModel:20200206150926_DCA9FA' created at: /private/var/folders/xb/6z8y2h493gqb0zxz171jkflw0000gn/T/bentoml-temp-sp8km8dn\n",
      "[2020-02-06 15:09:55,656] INFO - BentoService bundle 'WordEmbeddingModel:20200206150926_DCA9FA' created at: /Users/gillianchiang/bentoml/repository/WordEmbeddingModel/20200206150926_DCA9FA\n"
     ]
    }
   ],
   "source": [
    "sys.path.append('../')\n",
    "from word_embedding_model import WordEmbeddingModel\n",
    "# Initialize bentoML model with artifacts\n",
    "\n",
    "bento_model = WordEmbeddingModel()\n",
    "bento_model.pack('word_vectorizer', word_vectorizer)\n",
    "bento_model.pack('word_embedding_rf', word_embedding_rf)\n",
    "\n",
    "# Save bentoML model to directory\n",
    "saved_path = bento_model.save()"
   ]
  },
  {
   "cell_type": "code",
   "execution_count": 14,
   "metadata": {},
   "outputs": [
    {
     "name": "stdout",
     "output_type": "stream",
     "text": [
      "/Users/gillianchiang/bentoml/repository/WordEmbeddingModel/20200206150926_DCA9FA\n"
     ]
    }
   ],
   "source": [
    "# print the directory containing exported model archive (prefixed with model name and version)\n",
    "print(saved_path)"
   ]
  },
  {
   "cell_type": "markdown",
   "metadata": {},
   "source": [
    "## Load BentoService from saved bundle"
   ]
  },
  {
   "cell_type": "code",
   "execution_count": 15,
   "metadata": {},
   "outputs": [
    {
     "name": "stdout",
     "output_type": "stream",
     "text": [
      "[2020-02-06 15:10:01,033] WARNING - Module `word_embedding_model` already loaded, using existing imported module.\n"
     ]
    },
    {
     "name": "stderr",
     "output_type": "stream",
     "text": [
      "/Users/gillianchiang/opt/anaconda3/lib/python3.7/site-packages/tqdm/std.py:648: FutureWarning: The Panel class is removed from pandas. Accessing it from the top-level namespace will also be removed in the next version\n",
      "  from pandas import Panel\n",
      "100%|██████████| 10/10 [00:00<00:00, 6977.71it/s]\n",
      "100%|██████████| 10/10 [00:00<00:00, 62.64it/s]\n",
      "100%|██████████| 10/10 [00:00<00:00, 3146.75it/s]\n"
     ]
    },
    {
     "data": {
      "text/html": [
       "<div>\n",
       "<style scoped>\n",
       "    .dataframe tbody tr th:only-of-type {\n",
       "        vertical-align: middle;\n",
       "    }\n",
       "\n",
       "    .dataframe tbody tr th {\n",
       "        vertical-align: top;\n",
       "    }\n",
       "\n",
       "    .dataframe thead th {\n",
       "        text-align: right;\n",
       "    }\n",
       "</style>\n",
       "<table border=\"1\" class=\"dataframe\">\n",
       "  <thead>\n",
       "    <tr style=\"text-align: right;\">\n",
       "      <th></th>\n",
       "      <th>text</th>\n",
       "      <th>confidence_score</th>\n",
       "      <th>labels</th>\n",
       "    </tr>\n",
       "  </thead>\n",
       "  <tbody>\n",
       "    <tr>\n",
       "      <td>0</td>\n",
       "      <td>Its like that, if you want or not. ME: I have ...</td>\n",
       "      <td>0.680</td>\n",
       "      <td>stress</td>\n",
       "    </tr>\n",
       "    <tr>\n",
       "      <td>1</td>\n",
       "      <td>I man the front desk and my title is HR Custom...</td>\n",
       "      <td>0.550</td>\n",
       "      <td>stress</td>\n",
       "    </tr>\n",
       "    <tr>\n",
       "      <td>2</td>\n",
       "      <td>We'd be saving so much money with this new hou...</td>\n",
       "      <td>0.675</td>\n",
       "      <td>stress</td>\n",
       "    </tr>\n",
       "    <tr>\n",
       "      <td>3</td>\n",
       "      <td>My ex used to shoot back with \"Do you want me ...</td>\n",
       "      <td>0.580</td>\n",
       "      <td>stress</td>\n",
       "    </tr>\n",
       "    <tr>\n",
       "      <td>4</td>\n",
       "      <td>I havent said anything to him yet because Im n...</td>\n",
       "      <td>0.780</td>\n",
       "      <td>stress</td>\n",
       "    </tr>\n",
       "    <tr>\n",
       "      <td>5</td>\n",
       "      <td>Thanks. Edit 1 - Fuel Receipt As Requested. &lt;u...</td>\n",
       "      <td>0.470</td>\n",
       "      <td>non-stress</td>\n",
       "    </tr>\n",
       "    <tr>\n",
       "      <td>6</td>\n",
       "      <td>When moving into their tiny house, they would ...</td>\n",
       "      <td>0.620</td>\n",
       "      <td>stress</td>\n",
       "    </tr>\n",
       "    <tr>\n",
       "      <td>7</td>\n",
       "      <td>More specifically, for example, I live with ro...</td>\n",
       "      <td>0.800</td>\n",
       "      <td>stress</td>\n",
       "    </tr>\n",
       "    <tr>\n",
       "      <td>8</td>\n",
       "      <td>Long story short my family in NE Ohio is abusi...</td>\n",
       "      <td>0.750</td>\n",
       "      <td>stress</td>\n",
       "    </tr>\n",
       "    <tr>\n",
       "      <td>9</td>\n",
       "      <td>This new \"roommate\" lived 3 hours away in an p...</td>\n",
       "      <td>0.330</td>\n",
       "      <td>non-stress</td>\n",
       "    </tr>\n",
       "  </tbody>\n",
       "</table>\n",
       "</div>"
      ],
      "text/plain": [
       "                                                text  confidence_score  \\\n",
       "0  Its like that, if you want or not. ME: I have ...             0.680   \n",
       "1  I man the front desk and my title is HR Custom...             0.550   \n",
       "2  We'd be saving so much money with this new hou...             0.675   \n",
       "3  My ex used to shoot back with \"Do you want me ...             0.580   \n",
       "4  I havent said anything to him yet because Im n...             0.780   \n",
       "5  Thanks. Edit 1 - Fuel Receipt As Requested. <u...             0.470   \n",
       "6  When moving into their tiny house, they would ...             0.620   \n",
       "7  More specifically, for example, I live with ro...             0.800   \n",
       "8  Long story short my family in NE Ohio is abusi...             0.750   \n",
       "9  This new \"roommate\" lived 3 hours away in an p...             0.330   \n",
       "\n",
       "       labels  \n",
       "0      stress  \n",
       "1      stress  \n",
       "2      stress  \n",
       "3      stress  \n",
       "4      stress  \n",
       "5  non-stress  \n",
       "6      stress  \n",
       "7      stress  \n",
       "8      stress  \n",
       "9  non-stress  "
      ]
     },
     "execution_count": 15,
     "metadata": {},
     "output_type": "execute_result"
    }
   ],
   "source": [
    "import bentoml\n",
    "\n",
    "# Load exported bentoML model archive from path\n",
    "bento_model = bentoml.load(saved_path)\n",
    "\n",
    "# Call predict on the restored sklearn model\n",
    "series = test.text.iloc[:10]\n",
    "bento_model.predict(series)"
   ]
  },
  {
   "cell_type": "code",
   "execution_count": 16,
   "metadata": {},
   "outputs": [
    {
     "data": {
      "text/plain": [
       "'WordEmbeddingModel:20200206150926_DCA9FA'"
      ]
     },
     "execution_count": 16,
     "metadata": {},
     "output_type": "execute_result"
    }
   ],
   "source": [
    "bento_tag = '{name}:{version}'.format(name=bento_model.name, version=bento_model.version)\n",
    "bento_tag"
   ]
  },
  {
   "cell_type": "markdown",
   "metadata": {},
   "source": [
    "## Deploy BentoService with Google Cloud Run\n",
    "- <b>Link to API: https://sentiment-ghxotopljq-uw.a.run.app</b>\n",
    "\n",
    "\n",
    "- Tutorial: https://github.com/bentoml/BentoML/blob/master/guides/deployment/deploy-with-google-cloud-run/deploy-with-google-cloud-run.ipynb"
   ]
  },
  {
   "cell_type": "code",
   "execution_count": null,
   "metadata": {},
   "outputs": [],
   "source": []
  }
 ],
 "metadata": {
  "kernelspec": {
   "display_name": "Python 3 (ipykernel)",
   "language": "python",
   "name": "python3"
  },
  "language_info": {
   "codemirror_mode": {
    "name": "ipython",
    "version": 3
   },
   "file_extension": ".py",
   "mimetype": "text/x-python",
   "name": "python",
   "nbconvert_exporter": "python",
   "pygments_lexer": "ipython3",
   "version": "3.10.8"
  },
  "toc": {
   "base_numbering": 1,
   "nav_menu": {},
   "number_sections": true,
   "sideBar": true,
   "skip_h1_title": true,
   "title_cell": "Table of Contents",
   "title_sidebar": "Contents",
   "toc_cell": false,
   "toc_position": {},
   "toc_section_display": true,
   "toc_window_display": true
  }
 },
 "nbformat": 4,
 "nbformat_minor": 4
}
